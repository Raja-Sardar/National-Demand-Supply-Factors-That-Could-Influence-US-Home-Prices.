{
 "cells": [
  {
   "cell_type": "markdown",
   "id": "c8cd34e5",
   "metadata": {},
   "source": [
    "# Import Libraries..."
   ]
  },
  {
   "cell_type": "code",
   "execution_count": 1,
   "id": "e396c228",
   "metadata": {},
   "outputs": [],
   "source": [
    "import pandas as pd\n",
    "import numpy as np\n",
    "import matplotlib.pyplot as plt\n",
    "%matplotlib inline\n",
    "from pylab import rcParams\n",
    "rcParams['figure.figsize']=18,10"
   ]
  },
  {
   "cell_type": "code",
   "execution_count": 2,
   "id": "d7e87acd",
   "metadata": {},
   "outputs": [],
   "source": [
    "data=pd.read_csv('House_Price_for_Last_20_Years.csv')"
   ]
  },
  {
   "cell_type": "code",
   "execution_count": 55,
   "id": "3a1ad8bf",
   "metadata": {},
   "outputs": [
    {
     "data": {
      "text/html": [
       "<div>\n",
       "<style scoped>\n",
       "    .dataframe tbody tr th:only-of-type {\n",
       "        vertical-align: middle;\n",
       "    }\n",
       "\n",
       "    .dataframe tbody tr th {\n",
       "        vertical-align: top;\n",
       "    }\n",
       "\n",
       "    .dataframe thead th {\n",
       "        text-align: right;\n",
       "    }\n",
       "</style>\n",
       "<table border=\"1\" class=\"dataframe\">\n",
       "  <thead>\n",
       "    <tr style=\"text-align: right;\">\n",
       "      <th></th>\n",
       "      <th>YEAR</th>\n",
       "      <th>INFLATION RATE</th>\n",
       "      <th>USD VALUE</th>\n",
       "      <th>ECONOMY</th>\n",
       "      <th>UNEMPLOYMENT RATE</th>\n",
       "      <th>MORTAGE RATE</th>\n",
       "      <th>POPULATION</th>\n",
       "      <th>CPI</th>\n",
       "      <th>PERMITS</th>\n",
       "      <th>EXISITING HOUSE</th>\n",
       "      <th>NEW HOUSE FOR SALE</th>\n",
       "      <th>TOTAL HOUSE SUPPLY</th>\n",
       "      <th>PRICE</th>\n",
       "    </tr>\n",
       "  </thead>\n",
       "  <tbody>\n",
       "    <tr>\n",
       "      <th>0</th>\n",
       "      <td>2001</td>\n",
       "      <td>2.85</td>\n",
       "      <td>1,03,995.28</td>\n",
       "      <td>1.10</td>\n",
       "      <td>4.2</td>\n",
       "      <td>6.97</td>\n",
       "      <td>1.03</td>\n",
       "      <td>176.35</td>\n",
       "      <td>19646</td>\n",
       "      <td>2068</td>\n",
       "      <td>3621</td>\n",
       "      <td>5689</td>\n",
       "      <td>1358.14</td>\n",
       "    </tr>\n",
       "    <tr>\n",
       "      <th>1</th>\n",
       "      <td>2002</td>\n",
       "      <td>1.58</td>\n",
       "      <td>1,06,300.06</td>\n",
       "      <td>1.72</td>\n",
       "      <td>4.2</td>\n",
       "      <td>6.54</td>\n",
       "      <td>0.94</td>\n",
       "      <td>180.26</td>\n",
       "      <td>20988</td>\n",
       "      <td>2118</td>\n",
       "      <td>3930</td>\n",
       "      <td>6048</td>\n",
       "      <td>1467.34</td>\n",
       "    </tr>\n",
       "    <tr>\n",
       "      <th>2</th>\n",
       "      <td>2003</td>\n",
       "      <td>2.28</td>\n",
       "      <td>1,08,978.33</td>\n",
       "      <td>2.86</td>\n",
       "      <td>4.3</td>\n",
       "      <td>5.83</td>\n",
       "      <td>0.88</td>\n",
       "      <td>180.26</td>\n",
       "      <td>22661</td>\n",
       "      <td>2270</td>\n",
       "      <td>4184</td>\n",
       "      <td>6454</td>\n",
       "      <td>1604.77</td>\n",
       "    </tr>\n",
       "    <tr>\n",
       "      <th>3</th>\n",
       "      <td>2004</td>\n",
       "      <td>2.66</td>\n",
       "      <td>1,11,774.53</td>\n",
       "      <td>3.80</td>\n",
       "      <td>4.4</td>\n",
       "      <td>5.84</td>\n",
       "      <td>0.88</td>\n",
       "      <td>184.80</td>\n",
       "      <td>24691</td>\n",
       "      <td>2244</td>\n",
       "      <td>4745</td>\n",
       "      <td>6989</td>\n",
       "      <td>1805.27</td>\n",
       "    </tr>\n",
       "    <tr>\n",
       "      <th>4</th>\n",
       "      <td>2005</td>\n",
       "      <td>3.39</td>\n",
       "      <td>1,15,415.99</td>\n",
       "      <td>3.51</td>\n",
       "      <td>4.4</td>\n",
       "      <td>5.87</td>\n",
       "      <td>0.95</td>\n",
       "      <td>189.54</td>\n",
       "      <td>25921</td>\n",
       "      <td>2846</td>\n",
       "      <td>5610</td>\n",
       "      <td>8456</td>\n",
       "      <td>2060.84</td>\n",
       "    </tr>\n",
       "    <tr>\n",
       "      <th>5</th>\n",
       "      <td>2006</td>\n",
       "      <td>3.23</td>\n",
       "      <td>1,19,804.41</td>\n",
       "      <td>2.85</td>\n",
       "      <td>4.5</td>\n",
       "      <td>6.41</td>\n",
       "      <td>0.94</td>\n",
       "      <td>195.72</td>\n",
       "      <td>22124</td>\n",
       "      <td>3450</td>\n",
       "      <td>6641</td>\n",
       "      <td>10091</td>\n",
       "      <td>2201.38</td>\n",
       "    </tr>\n",
       "    <tr>\n",
       "      <th>6</th>\n",
       "      <td>2007</td>\n",
       "      <td>2.85</td>\n",
       "      <td>1,23,592.85</td>\n",
       "      <td>1.88</td>\n",
       "      <td>4.6</td>\n",
       "      <td>6.34</td>\n",
       "      <td>0.96</td>\n",
       "      <td>203.16</td>\n",
       "      <td>16698</td>\n",
       "      <td>3520</td>\n",
       "      <td>6375</td>\n",
       "      <td>9895</td>\n",
       "      <td>2159.04</td>\n",
       "    </tr>\n",
       "    <tr>\n",
       "      <th>7</th>\n",
       "      <td>2008</td>\n",
       "      <td>3.84</td>\n",
       "      <td>1,27,527.69</td>\n",
       "      <td>-0.14</td>\n",
       "      <td>4.9</td>\n",
       "      <td>6.03</td>\n",
       "      <td>0.96</td>\n",
       "      <td>209.58</td>\n",
       "      <td>10750</td>\n",
       "      <td>3130</td>\n",
       "      <td>5107</td>\n",
       "      <td>8237</td>\n",
       "      <td>1968.70</td>\n",
       "    </tr>\n",
       "    <tr>\n",
       "      <th>8</th>\n",
       "      <td>2009</td>\n",
       "      <td>-0.36</td>\n",
       "      <td>1,28,001.08</td>\n",
       "      <td>-2.01</td>\n",
       "      <td>5.1</td>\n",
       "      <td>5.04</td>\n",
       "      <td>0.93</td>\n",
       "      <td>216.26</td>\n",
       "      <td>6984</td>\n",
       "      <td>2740</td>\n",
       "      <td>3346</td>\n",
       "      <td>6086</td>\n",
       "      <td>1782.52</td>\n",
       "    </tr>\n",
       "    <tr>\n",
       "      <th>9</th>\n",
       "      <td>2010</td>\n",
       "      <td>1.64</td>\n",
       "      <td>1,27,526.76</td>\n",
       "      <td>2.56</td>\n",
       "      <td>5.3</td>\n",
       "      <td>4.69</td>\n",
       "      <td>0.88</td>\n",
       "      <td>217.06</td>\n",
       "      <td>7244</td>\n",
       "      <td>3020</td>\n",
       "      <td>2536</td>\n",
       "      <td>5556</td>\n",
       "      <td>1736.04</td>\n",
       "    </tr>\n",
       "    <tr>\n",
       "      <th>10</th>\n",
       "      <td>2011</td>\n",
       "      <td>3.16</td>\n",
       "      <td>1,29,207.87</td>\n",
       "      <td>1.55</td>\n",
       "      <td>5.5</td>\n",
       "      <td>4.45</td>\n",
       "      <td>0.83</td>\n",
       "      <td>216.25</td>\n",
       "      <td>7488</td>\n",
       "      <td>2320</td>\n",
       "      <td>2009</td>\n",
       "      <td>4329</td>\n",
       "      <td>1671.09</td>\n",
       "    </tr>\n",
       "    <tr>\n",
       "      <th>11</th>\n",
       "      <td>2012</td>\n",
       "      <td>2.07</td>\n",
       "      <td>1,31,336.48</td>\n",
       "      <td>2.25</td>\n",
       "      <td>5.7</td>\n",
       "      <td>3.66</td>\n",
       "      <td>0.79</td>\n",
       "      <td>219.10</td>\n",
       "      <td>9942</td>\n",
       "      <td>1830</td>\n",
       "      <td>1750</td>\n",
       "      <td>3580</td>\n",
       "      <td>1691.92</td>\n",
       "    </tr>\n",
       "    <tr>\n",
       "      <th>12</th>\n",
       "      <td>2013</td>\n",
       "      <td>3.14</td>\n",
       "      <td>1,34,070.32</td>\n",
       "      <td>1.84</td>\n",
       "      <td>5.7</td>\n",
       "      <td>3.99</td>\n",
       "      <td>0.75</td>\n",
       "      <td>222.71</td>\n",
       "      <td>11856</td>\n",
       "      <td>1860</td>\n",
       "      <td>2024</td>\n",
       "      <td>3884</td>\n",
       "      <td>1854.29</td>\n",
       "    </tr>\n",
       "    <tr>\n",
       "      <th>13</th>\n",
       "      <td>2014</td>\n",
       "      <td>2.84</td>\n",
       "      <td>1,37,528.97</td>\n",
       "      <td>2.53</td>\n",
       "      <td>5.7</td>\n",
       "      <td>4.17</td>\n",
       "      <td>0.72</td>\n",
       "      <td>227.35</td>\n",
       "      <td>12623</td>\n",
       "      <td>1860</td>\n",
       "      <td>2401</td>\n",
       "      <td>4261</td>\n",
       "      <td>1976.50</td>\n",
       "    </tr>\n",
       "    <tr>\n",
       "      <th>14</th>\n",
       "      <td>2015</td>\n",
       "      <td>3.23</td>\n",
       "      <td>1,40,386.51</td>\n",
       "      <td>2.91</td>\n",
       "      <td>5.7</td>\n",
       "      <td>3.85</td>\n",
       "      <td>0.69</td>\n",
       "      <td>233.22</td>\n",
       "      <td>14126</td>\n",
       "      <td>1760</td>\n",
       "      <td>2598</td>\n",
       "      <td>4358</td>\n",
       "      <td>2066.42</td>\n",
       "    </tr>\n",
       "    <tr>\n",
       "      <th>15</th>\n",
       "      <td>2016</td>\n",
       "      <td>3.57</td>\n",
       "      <td>1,43,874.44</td>\n",
       "      <td>1.64</td>\n",
       "      <td>5.9</td>\n",
       "      <td>3.65</td>\n",
       "      <td>0.67</td>\n",
       "      <td>238.06</td>\n",
       "      <td>14465</td>\n",
       "      <td>1650</td>\n",
       "      <td>2916</td>\n",
       "      <td>4566</td>\n",
       "      <td>2171.43</td>\n",
       "    </tr>\n",
       "    <tr>\n",
       "      <th>16</th>\n",
       "      <td>2017</td>\n",
       "      <td>2.13</td>\n",
       "      <td>1,48,153.87</td>\n",
       "      <td>2.37</td>\n",
       "      <td>5.9</td>\n",
       "      <td>3.99</td>\n",
       "      <td>0.64</td>\n",
       "      <td>243.98</td>\n",
       "      <td>15415</td>\n",
       "      <td>1460</td>\n",
       "      <td>3305</td>\n",
       "      <td>4765</td>\n",
       "      <td>2297.29</td>\n",
       "    </tr>\n",
       "    <tr>\n",
       "      <th>17</th>\n",
       "      <td>2018</td>\n",
       "      <td>2.49</td>\n",
       "      <td>1,52,427.44</td>\n",
       "      <td>2.93</td>\n",
       "      <td>5.9</td>\n",
       "      <td>4.54</td>\n",
       "      <td>0.62</td>\n",
       "      <td>251.23</td>\n",
       "      <td>15945</td>\n",
       "      <td>1530</td>\n",
       "      <td>3768</td>\n",
       "      <td>5298</td>\n",
       "      <td>2430.31</td>\n",
       "    </tr>\n",
       "    <tr>\n",
       "      <th>18</th>\n",
       "      <td>2019</td>\n",
       "      <td>1.23</td>\n",
       "      <td>1,56,831.64</td>\n",
       "      <td>2.16</td>\n",
       "      <td>5.9</td>\n",
       "      <td>3.94</td>\n",
       "      <td>0.61</td>\n",
       "      <td>258.48</td>\n",
       "      <td>16633</td>\n",
       "      <td>1390</td>\n",
       "      <td>3952</td>\n",
       "      <td>5342</td>\n",
       "      <td>2514.44</td>\n",
       "    </tr>\n",
       "    <tr>\n",
       "      <th>19</th>\n",
       "      <td>2020</td>\n",
       "      <td>4.70</td>\n",
       "      <td>1,60,268.37</td>\n",
       "      <td>-7.97</td>\n",
       "      <td>5.9</td>\n",
       "      <td>3.11</td>\n",
       "      <td>0.59</td>\n",
       "      <td>265.95</td>\n",
       "      <td>17257</td>\n",
       "      <td>1060</td>\n",
       "      <td>3653</td>\n",
       "      <td>4713</td>\n",
       "      <td>3145.64</td>\n",
       "    </tr>\n",
       "  </tbody>\n",
       "</table>\n",
       "</div>"
      ],
      "text/plain": [
       "    YEAR  INFLATION RATE    USD VALUE  ECONOMY  UNEMPLOYMENT RATE  \\\n",
       "0   2001            2.85  1,03,995.28     1.10                4.2   \n",
       "1   2002            1.58  1,06,300.06     1.72                4.2   \n",
       "2   2003            2.28  1,08,978.33     2.86                4.3   \n",
       "3   2004            2.66  1,11,774.53     3.80                4.4   \n",
       "4   2005            3.39  1,15,415.99     3.51                4.4   \n",
       "5   2006            3.23  1,19,804.41     2.85                4.5   \n",
       "6   2007            2.85  1,23,592.85     1.88                4.6   \n",
       "7   2008            3.84  1,27,527.69    -0.14                4.9   \n",
       "8   2009           -0.36  1,28,001.08    -2.01                5.1   \n",
       "9   2010            1.64  1,27,526.76     2.56                5.3   \n",
       "10  2011            3.16  1,29,207.87     1.55                5.5   \n",
       "11  2012            2.07  1,31,336.48     2.25                5.7   \n",
       "12  2013            3.14  1,34,070.32     1.84                5.7   \n",
       "13  2014            2.84  1,37,528.97     2.53                5.7   \n",
       "14  2015            3.23  1,40,386.51     2.91                5.7   \n",
       "15  2016            3.57  1,43,874.44     1.64                5.9   \n",
       "16  2017            2.13  1,48,153.87     2.37                5.9   \n",
       "17  2018            2.49  1,52,427.44     2.93                5.9   \n",
       "18  2019            1.23  1,56,831.64     2.16                5.9   \n",
       "19  2020            4.70  1,60,268.37    -7.97                5.9   \n",
       "\n",
       "    MORTAGE RATE  POPULATION     CPI  PERMITS  EXISITING HOUSE  \\\n",
       "0           6.97        1.03  176.35    19646             2068   \n",
       "1           6.54        0.94  180.26    20988             2118   \n",
       "2           5.83        0.88  180.26    22661             2270   \n",
       "3           5.84        0.88  184.80    24691             2244   \n",
       "4           5.87        0.95  189.54    25921             2846   \n",
       "5           6.41        0.94  195.72    22124             3450   \n",
       "6           6.34        0.96  203.16    16698             3520   \n",
       "7           6.03        0.96  209.58    10750             3130   \n",
       "8           5.04        0.93  216.26     6984             2740   \n",
       "9           4.69        0.88  217.06     7244             3020   \n",
       "10          4.45        0.83  216.25     7488             2320   \n",
       "11          3.66        0.79  219.10     9942             1830   \n",
       "12          3.99        0.75  222.71    11856             1860   \n",
       "13          4.17        0.72  227.35    12623             1860   \n",
       "14          3.85        0.69  233.22    14126             1760   \n",
       "15          3.65        0.67  238.06    14465             1650   \n",
       "16          3.99        0.64  243.98    15415             1460   \n",
       "17          4.54        0.62  251.23    15945             1530   \n",
       "18          3.94        0.61  258.48    16633             1390   \n",
       "19          3.11        0.59  265.95    17257             1060   \n",
       "\n",
       "    NEW HOUSE FOR SALE  TOTAL HOUSE SUPPLY    PRICE  \n",
       "0                 3621                5689  1358.14  \n",
       "1                 3930                6048  1467.34  \n",
       "2                 4184                6454  1604.77  \n",
       "3                 4745                6989  1805.27  \n",
       "4                 5610                8456  2060.84  \n",
       "5                 6641               10091  2201.38  \n",
       "6                 6375                9895  2159.04  \n",
       "7                 5107                8237  1968.70  \n",
       "8                 3346                6086  1782.52  \n",
       "9                 2536                5556  1736.04  \n",
       "10                2009                4329  1671.09  \n",
       "11                1750                3580  1691.92  \n",
       "12                2024                3884  1854.29  \n",
       "13                2401                4261  1976.50  \n",
       "14                2598                4358  2066.42  \n",
       "15                2916                4566  2171.43  \n",
       "16                3305                4765  2297.29  \n",
       "17                3768                5298  2430.31  \n",
       "18                3952                5342  2514.44  \n",
       "19                3653                4713  3145.64  "
      ]
     },
     "execution_count": 55,
     "metadata": {},
     "output_type": "execute_result"
    }
   ],
   "source": [
    "#Uploading Dataset\n",
    "data"
   ]
  },
  {
   "cell_type": "code",
   "execution_count": 56,
   "id": "b9bb0bb8",
   "metadata": {},
   "outputs": [
    {
     "data": {
      "text/plain": [
       "YEAR                  0\n",
       "INFLATION RATE        0\n",
       "USD VALUE             0\n",
       "ECONOMY               0\n",
       "UNEMPLOYMENT RATE     0\n",
       "MORTAGE RATE          0\n",
       "POPULATION            0\n",
       "CPI                   0\n",
       "PERMITS               0\n",
       "EXISITING HOUSE       0\n",
       "NEW HOUSE FOR SALE    0\n",
       "TOTAL HOUSE SUPPLY    0\n",
       "PRICE                 0\n",
       "dtype: int64"
      ]
     },
     "execution_count": 56,
     "metadata": {},
     "output_type": "execute_result"
    }
   ],
   "source": [
    "#Verifying Any Null Value Is Present Or Not\n",
    "data.isnull().sum()"
   ]
  },
  {
   "cell_type": "code",
   "execution_count": 5,
   "id": "0cc7f6a6",
   "metadata": {},
   "outputs": [
    {
     "data": {
      "text/html": [
       "<div>\n",
       "<style scoped>\n",
       "    .dataframe tbody tr th:only-of-type {\n",
       "        vertical-align: middle;\n",
       "    }\n",
       "\n",
       "    .dataframe tbody tr th {\n",
       "        vertical-align: top;\n",
       "    }\n",
       "\n",
       "    .dataframe thead th {\n",
       "        text-align: right;\n",
       "    }\n",
       "</style>\n",
       "<table border=\"1\" class=\"dataframe\">\n",
       "  <thead>\n",
       "    <tr style=\"text-align: right;\">\n",
       "      <th></th>\n",
       "      <th>count</th>\n",
       "      <th>mean</th>\n",
       "      <th>std</th>\n",
       "      <th>min</th>\n",
       "      <th>25%</th>\n",
       "      <th>50%</th>\n",
       "      <th>75%</th>\n",
       "      <th>max</th>\n",
       "    </tr>\n",
       "  </thead>\n",
       "  <tbody>\n",
       "    <tr>\n",
       "      <th>YEAR</th>\n",
       "      <td>20.0</td>\n",
       "      <td>2010.5000</td>\n",
       "      <td>5.916080</td>\n",
       "      <td>2001.00</td>\n",
       "      <td>2005.7500</td>\n",
       "      <td>2010.500</td>\n",
       "      <td>2015.2500</td>\n",
       "      <td>2020.00</td>\n",
       "    </tr>\n",
       "    <tr>\n",
       "      <th>INFLATION RATE</th>\n",
       "      <td>20.0</td>\n",
       "      <td>2.6260</td>\n",
       "      <td>1.083393</td>\n",
       "      <td>-0.36</td>\n",
       "      <td>2.1150</td>\n",
       "      <td>2.845</td>\n",
       "      <td>3.2300</td>\n",
       "      <td>4.70</td>\n",
       "    </tr>\n",
       "    <tr>\n",
       "      <th>ECONOMY</th>\n",
       "      <td>20.0</td>\n",
       "      <td>1.5170</td>\n",
       "      <td>2.576718</td>\n",
       "      <td>-7.97</td>\n",
       "      <td>1.6175</td>\n",
       "      <td>2.205</td>\n",
       "      <td>2.8525</td>\n",
       "      <td>3.80</td>\n",
       "    </tr>\n",
       "    <tr>\n",
       "      <th>UNEMPLOYMENT RATE</th>\n",
       "      <td>20.0</td>\n",
       "      <td>5.1850</td>\n",
       "      <td>0.672212</td>\n",
       "      <td>4.20</td>\n",
       "      <td>4.4750</td>\n",
       "      <td>5.400</td>\n",
       "      <td>5.7500</td>\n",
       "      <td>5.90</td>\n",
       "    </tr>\n",
       "    <tr>\n",
       "      <th>MORTAGE RATE</th>\n",
       "      <td>20.0</td>\n",
       "      <td>4.9455</td>\n",
       "      <td>1.173530</td>\n",
       "      <td>3.11</td>\n",
       "      <td>3.9775</td>\n",
       "      <td>4.615</td>\n",
       "      <td>5.9100</td>\n",
       "      <td>6.97</td>\n",
       "    </tr>\n",
       "    <tr>\n",
       "      <th>POPULATION</th>\n",
       "      <td>20.0</td>\n",
       "      <td>0.8130</td>\n",
       "      <td>0.140604</td>\n",
       "      <td>0.59</td>\n",
       "      <td>0.6850</td>\n",
       "      <td>0.855</td>\n",
       "      <td>0.9400</td>\n",
       "      <td>1.03</td>\n",
       "    </tr>\n",
       "    <tr>\n",
       "      <th>CPI</th>\n",
       "      <td>20.0</td>\n",
       "      <td>216.4660</td>\n",
       "      <td>26.857200</td>\n",
       "      <td>176.35</td>\n",
       "      <td>194.1750</td>\n",
       "      <td>216.660</td>\n",
       "      <td>234.4300</td>\n",
       "      <td>265.95</td>\n",
       "    </tr>\n",
       "    <tr>\n",
       "      <th>PERMITS</th>\n",
       "      <td>20.0</td>\n",
       "      <td>15672.8500</td>\n",
       "      <td>5729.861276</td>\n",
       "      <td>6984.00</td>\n",
       "      <td>11579.5000</td>\n",
       "      <td>15680.000</td>\n",
       "      <td>19981.5000</td>\n",
       "      <td>25921.00</td>\n",
       "    </tr>\n",
       "    <tr>\n",
       "      <th>EXISITING HOUSE</th>\n",
       "      <td>20.0</td>\n",
       "      <td>2206.3000</td>\n",
       "      <td>703.828111</td>\n",
       "      <td>1060.00</td>\n",
       "      <td>1732.5000</td>\n",
       "      <td>2093.000</td>\n",
       "      <td>2766.5000</td>\n",
       "      <td>3520.00</td>\n",
       "    </tr>\n",
       "    <tr>\n",
       "      <th>NEW HOUSE FOR SALE</th>\n",
       "      <td>20.0</td>\n",
       "      <td>3723.5500</td>\n",
       "      <td>1404.900763</td>\n",
       "      <td>1750.00</td>\n",
       "      <td>2582.5000</td>\n",
       "      <td>3637.000</td>\n",
       "      <td>4324.2500</td>\n",
       "      <td>6641.00</td>\n",
       "    </tr>\n",
       "    <tr>\n",
       "      <th>TOTAL HOUSE SUPPLY</th>\n",
       "      <td>20.0</td>\n",
       "      <td>5929.8500</td>\n",
       "      <td>1910.399304</td>\n",
       "      <td>3580.00</td>\n",
       "      <td>4514.0000</td>\n",
       "      <td>5449.000</td>\n",
       "      <td>6587.7500</td>\n",
       "      <td>10091.00</td>\n",
       "    </tr>\n",
       "    <tr>\n",
       "      <th>PRICE</th>\n",
       "      <td>20.0</td>\n",
       "      <td>1998.1685</td>\n",
       "      <td>409.533610</td>\n",
       "      <td>1358.14</td>\n",
       "      <td>1725.0100</td>\n",
       "      <td>1972.600</td>\n",
       "      <td>2178.9175</td>\n",
       "      <td>3145.64</td>\n",
       "    </tr>\n",
       "  </tbody>\n",
       "</table>\n",
       "</div>"
      ],
      "text/plain": [
       "                    count        mean          std      min         25%  \\\n",
       "YEAR                 20.0   2010.5000     5.916080  2001.00   2005.7500   \n",
       "INFLATION RATE       20.0      2.6260     1.083393    -0.36      2.1150   \n",
       "ECONOMY              20.0      1.5170     2.576718    -7.97      1.6175   \n",
       "UNEMPLOYMENT RATE    20.0      5.1850     0.672212     4.20      4.4750   \n",
       "MORTAGE RATE         20.0      4.9455     1.173530     3.11      3.9775   \n",
       "POPULATION           20.0      0.8130     0.140604     0.59      0.6850   \n",
       "CPI                  20.0    216.4660    26.857200   176.35    194.1750   \n",
       "PERMITS              20.0  15672.8500  5729.861276  6984.00  11579.5000   \n",
       "EXISITING HOUSE      20.0   2206.3000   703.828111  1060.00   1732.5000   \n",
       "NEW HOUSE FOR SALE   20.0   3723.5500  1404.900763  1750.00   2582.5000   \n",
       "TOTAL HOUSE SUPPLY   20.0   5929.8500  1910.399304  3580.00   4514.0000   \n",
       "PRICE                20.0   1998.1685   409.533610  1358.14   1725.0100   \n",
       "\n",
       "                          50%         75%       max  \n",
       "YEAR                 2010.500   2015.2500   2020.00  \n",
       "INFLATION RATE          2.845      3.2300      4.70  \n",
       "ECONOMY                 2.205      2.8525      3.80  \n",
       "UNEMPLOYMENT RATE       5.400      5.7500      5.90  \n",
       "MORTAGE RATE            4.615      5.9100      6.97  \n",
       "POPULATION              0.855      0.9400      1.03  \n",
       "CPI                   216.660    234.4300    265.95  \n",
       "PERMITS             15680.000  19981.5000  25921.00  \n",
       "EXISITING HOUSE      2093.000   2766.5000   3520.00  \n",
       "NEW HOUSE FOR SALE   3637.000   4324.2500   6641.00  \n",
       "TOTAL HOUSE SUPPLY   5449.000   6587.7500  10091.00  \n",
       "PRICE                1972.600   2178.9175   3145.64  "
      ]
     },
     "execution_count": 5,
     "metadata": {},
     "output_type": "execute_result"
    }
   ],
   "source": [
    "data.describe().transpose()"
   ]
  },
  {
   "cell_type": "code",
   "execution_count": 6,
   "id": "20eb39d4",
   "metadata": {
    "scrolled": true
   },
   "outputs": [
    {
     "data": {
      "text/plain": [
       "Index(['YEAR', 'INFLATION RATE', 'USD VALUE', 'ECONOMY', 'UNEMPLOYMENT RATE',\n",
       "       'MORTAGE RATE', 'POPULATION', 'CPI', 'PERMITS', 'EXISITING HOUSE',\n",
       "       'NEW HOUSE FOR SALE', 'TOTAL HOUSE SUPPLY', 'PRICE'],\n",
       "      dtype='object')"
      ]
     },
     "execution_count": 6,
     "metadata": {},
     "output_type": "execute_result"
    }
   ],
   "source": [
    "data.columns"
   ]
  },
  {
   "cell_type": "markdown",
   "id": "c440653b",
   "metadata": {},
   "source": [
    "# Ploting Data For Visualization"
   ]
  },
  {
   "cell_type": "code",
   "execution_count": 57,
   "id": "80f5ce09",
   "metadata": {
    "scrolled": false
   },
   "outputs": [
    {
     "data": {
      "image/png": "[encoded data removed]",
      "text/plain": [
       "<Figure size 1296x720 with 1 Axes>"
      ]
     },
     "metadata": {
      "needs_background": "light"
     },
     "output_type": "display_data"
    }
   ],
   "source": [
    "plt.plot(data['YEAR'],data['INFLATION RATE'],color='purple',label='Inflation Rate')\n",
    "plt.plot(data['YEAR'],data['UNEMPLOYMENT RATE'],color='green',label='Unemployment Rate')\n",
    "plt.plot(data['YEAR'],data['POPULATION'],color='blue',label='Population Rate')\n",
    "plt.grid()\n",
    "plt.xlabel('Year',fontsize=14,fontweight='bold')\n",
    "plt.ylabel('Rate',fontsize=14,fontweight='bold')\n",
    "plt.title('Year VS Inflation Vs Unemployment Vs Population Graph',fontweight='bold')\n",
    "plt.legend()\n",
    "plt.show()"
   ]
  },
  {
   "cell_type": "code",
   "execution_count": 8,
   "id": "777c3fa2",
   "metadata": {
    "scrolled": false
   },
   "outputs": [
    {
     "data": {
      "text/plain": [
       "Text(0.5, 1.0, 'Year VS Mortage Price Graph')"
      ]
     },
     "execution_count": 8,
     "metadata": {},
     "output_type": "execute_result"
    },
    {
     "data": {
      "image/png": "[encoded data removed]",
      "text/plain": [
       "<Figure size 1296x720 with 1 Axes>"
      ]
     },
     "metadata": {
      "needs_background": "light"
     },
     "output_type": "display_data"
    }
   ],
   "source": [
    "plt.plot(data['YEAR'],data['MORTAGE RATE'],color='blue')\n",
    "plt.grid()\n",
    "plt.xlabel('Year')\n",
    "plt.ylabel('MORTAGE RATE')\n",
    "plt.title('Year VS Mortage Price Graph',fontweight='bold')"
   ]
  },
  {
   "cell_type": "code",
   "execution_count": 9,
   "id": "e26aa846",
   "metadata": {},
   "outputs": [
    {
     "data": {
      "text/plain": [
       "Text(0.5, 1.0, 'Year VS Permits Graph')"
      ]
     },
     "execution_count": 9,
     "metadata": {},
     "output_type": "execute_result"
    },
    {
     "data": {
      "image/png": "[encoded data removed]",
      "text/plain": [
       "<Figure size 1296x720 with 1 Axes>"
      ]
     },
     "metadata": {
      "needs_background": "light"
     },
     "output_type": "display_data"
    }
   ],
   "source": [
    "plt.plot(data['YEAR'],data['PERMITS'],color='orange')\n",
    "plt.grid()\n",
    "plt.xlabel('Year')\n",
    "plt.ylabel('House PERMITS')\n",
    "plt.title('Year VS Permits Graph',fontweight='bold')"
   ]
  },
  {
   "cell_type": "code",
   "execution_count": 10,
   "id": "d9351788",
   "metadata": {},
   "outputs": [
    {
     "data": {
      "text/plain": [
       "<matplotlib.legend.Legend at 0x2bfae6eec40>"
      ]
     },
     "execution_count": 10,
     "metadata": {},
     "output_type": "execute_result"
    },
    {
     "data": {
      "image/png": "[encoded data removed]",
      "text/plain": [
       "<Figure size 1296x720 with 1 Axes>"
      ]
     },
     "metadata": {
      "needs_background": "light"
     },
     "output_type": "display_data"
    }
   ],
   "source": [
    "plt.plot(data['YEAR'],data['EXISITING HOUSE'],color='purple',label='EXISITING HOUSE')\n",
    "plt.plot(data['YEAR'],data['NEW HOUSE FOR SALE'],color='green',label='NEW HOUSE FOR SALE')\n",
    "plt.plot(data['YEAR'],data['TOTAL HOUSE SUPPLY'],color='blue',label='TOTAL HOUSE SUPPLY')\n",
    "plt.plot(data['YEAR'],data['PRICE'],color='red',label='Price')\n",
    "plt.grid()\n",
    "plt.xlabel('Year',fontsize=14,fontweight='bold')\n",
    "plt.ylabel('Rate',fontsize=14,fontweight='bold')\n",
    "plt.title('Year VS EXISITING HOUSE Vs NEW HOUSE FOR SALE Vs TOTAL HOUSE SUPPLY Vs Price Graph',fontweight='bold')\n",
    "plt.legend()"
   ]
  },
  {
   "cell_type": "code",
   "execution_count": 11,
   "id": "0b0b0f67",
   "metadata": {
    "scrolled": true
   },
   "outputs": [
    {
     "data": {
      "text/plain": [
       "Index(['YEAR', 'INFLATION RATE', 'USD VALUE', 'ECONOMY', 'UNEMPLOYMENT RATE',\n",
       "       'MORTAGE RATE', 'POPULATION', 'CPI', 'PERMITS', 'EXISITING HOUSE',\n",
       "       'NEW HOUSE FOR SALE', 'TOTAL HOUSE SUPPLY', 'PRICE'],\n",
       "      dtype='object')"
      ]
     },
     "execution_count": 11,
     "metadata": {},
     "output_type": "execute_result"
    }
   ],
   "source": [
    "data.columns"
   ]
  },
  {
   "cell_type": "code",
   "execution_count": 12,
   "id": "13bbbdd5",
   "metadata": {},
   "outputs": [],
   "source": [
    "x=data.drop(['USD VALUE','PRICE'],axis=1)\n",
    "y=data['PRICE']"
   ]
  },
  {
   "cell_type": "code",
   "execution_count": 13,
   "id": "ca7856f6",
   "metadata": {},
   "outputs": [
    {
     "data": {
      "text/plain": [
       "Index(['YEAR', 'INFLATION RATE', 'ECONOMY', 'UNEMPLOYMENT RATE',\n",
       "       'MORTAGE RATE', 'POPULATION', 'CPI', 'PERMITS', 'EXISITING HOUSE',\n",
       "       'NEW HOUSE FOR SALE', 'TOTAL HOUSE SUPPLY'],\n",
       "      dtype='object')"
      ]
     },
     "execution_count": 13,
     "metadata": {},
     "output_type": "execute_result"
    }
   ],
   "source": [
    "x.columns"
   ]
  },
  {
   "cell_type": "code",
   "execution_count": 14,
   "id": "cc66a863",
   "metadata": {},
   "outputs": [
    {
     "data": {
      "text/plain": [
       "(20, 11)"
      ]
     },
     "execution_count": 14,
     "metadata": {},
     "output_type": "execute_result"
    }
   ],
   "source": [
    "x.shape"
   ]
  },
  {
   "cell_type": "code",
   "execution_count": 15,
   "id": "64a4d8c1",
   "metadata": {},
   "outputs": [
    {
     "data": {
      "text/plain": [
       "(20,)"
      ]
     },
     "execution_count": 15,
     "metadata": {},
     "output_type": "execute_result"
    }
   ],
   "source": [
    "y.shape"
   ]
  },
  {
   "cell_type": "code",
   "execution_count": 16,
   "id": "b6392c9b",
   "metadata": {},
   "outputs": [
    {
     "data": {
      "text/html": [
       "<div>\n",
       "<style scoped>\n",
       "    .dataframe tbody tr th:only-of-type {\n",
       "        vertical-align: middle;\n",
       "    }\n",
       "\n",
       "    .dataframe tbody tr th {\n",
       "        vertical-align: top;\n",
       "    }\n",
       "\n",
       "    .dataframe thead th {\n",
       "        text-align: right;\n",
       "    }\n",
       "</style>\n",
       "<table border=\"1\" class=\"dataframe\">\n",
       "  <thead>\n",
       "    <tr style=\"text-align: right;\">\n",
       "      <th></th>\n",
       "      <th>YEAR</th>\n",
       "      <th>INFLATION RATE</th>\n",
       "      <th>ECONOMY</th>\n",
       "      <th>UNEMPLOYMENT RATE</th>\n",
       "      <th>MORTAGE RATE</th>\n",
       "      <th>POPULATION</th>\n",
       "      <th>CPI</th>\n",
       "      <th>PERMITS</th>\n",
       "      <th>EXISITING HOUSE</th>\n",
       "      <th>NEW HOUSE FOR SALE</th>\n",
       "      <th>TOTAL HOUSE SUPPLY</th>\n",
       "    </tr>\n",
       "  </thead>\n",
       "  <tbody>\n",
       "    <tr>\n",
       "      <th>0</th>\n",
       "      <td>2001</td>\n",
       "      <td>2.85</td>\n",
       "      <td>1.10</td>\n",
       "      <td>4.2</td>\n",
       "      <td>6.97</td>\n",
       "      <td>1.03</td>\n",
       "      <td>176.35</td>\n",
       "      <td>19646</td>\n",
       "      <td>2068</td>\n",
       "      <td>3621</td>\n",
       "      <td>5689</td>\n",
       "    </tr>\n",
       "    <tr>\n",
       "      <th>1</th>\n",
       "      <td>2002</td>\n",
       "      <td>1.58</td>\n",
       "      <td>1.72</td>\n",
       "      <td>4.2</td>\n",
       "      <td>6.54</td>\n",
       "      <td>0.94</td>\n",
       "      <td>180.26</td>\n",
       "      <td>20988</td>\n",
       "      <td>2118</td>\n",
       "      <td>3930</td>\n",
       "      <td>6048</td>\n",
       "    </tr>\n",
       "    <tr>\n",
       "      <th>2</th>\n",
       "      <td>2003</td>\n",
       "      <td>2.28</td>\n",
       "      <td>2.86</td>\n",
       "      <td>4.3</td>\n",
       "      <td>5.83</td>\n",
       "      <td>0.88</td>\n",
       "      <td>180.26</td>\n",
       "      <td>22661</td>\n",
       "      <td>2270</td>\n",
       "      <td>4184</td>\n",
       "      <td>6454</td>\n",
       "    </tr>\n",
       "    <tr>\n",
       "      <th>3</th>\n",
       "      <td>2004</td>\n",
       "      <td>2.66</td>\n",
       "      <td>3.80</td>\n",
       "      <td>4.4</td>\n",
       "      <td>5.84</td>\n",
       "      <td>0.88</td>\n",
       "      <td>184.80</td>\n",
       "      <td>24691</td>\n",
       "      <td>2244</td>\n",
       "      <td>4745</td>\n",
       "      <td>6989</td>\n",
       "    </tr>\n",
       "    <tr>\n",
       "      <th>4</th>\n",
       "      <td>2005</td>\n",
       "      <td>3.39</td>\n",
       "      <td>3.51</td>\n",
       "      <td>4.4</td>\n",
       "      <td>5.87</td>\n",
       "      <td>0.95</td>\n",
       "      <td>189.54</td>\n",
       "      <td>25921</td>\n",
       "      <td>2846</td>\n",
       "      <td>5610</td>\n",
       "      <td>8456</td>\n",
       "    </tr>\n",
       "    <tr>\n",
       "      <th>5</th>\n",
       "      <td>2006</td>\n",
       "      <td>3.23</td>\n",
       "      <td>2.85</td>\n",
       "      <td>4.5</td>\n",
       "      <td>6.41</td>\n",
       "      <td>0.94</td>\n",
       "      <td>195.72</td>\n",
       "      <td>22124</td>\n",
       "      <td>3450</td>\n",
       "      <td>6641</td>\n",
       "      <td>10091</td>\n",
       "    </tr>\n",
       "    <tr>\n",
       "      <th>6</th>\n",
       "      <td>2007</td>\n",
       "      <td>2.85</td>\n",
       "      <td>1.88</td>\n",
       "      <td>4.6</td>\n",
       "      <td>6.34</td>\n",
       "      <td>0.96</td>\n",
       "      <td>203.16</td>\n",
       "      <td>16698</td>\n",
       "      <td>3520</td>\n",
       "      <td>6375</td>\n",
       "      <td>9895</td>\n",
       "    </tr>\n",
       "    <tr>\n",
       "      <th>7</th>\n",
       "      <td>2008</td>\n",
       "      <td>3.84</td>\n",
       "      <td>-0.14</td>\n",
       "      <td>4.9</td>\n",
       "      <td>6.03</td>\n",
       "      <td>0.96</td>\n",
       "      <td>209.58</td>\n",
       "      <td>10750</td>\n",
       "      <td>3130</td>\n",
       "      <td>5107</td>\n",
       "      <td>8237</td>\n",
       "    </tr>\n",
       "    <tr>\n",
       "      <th>8</th>\n",
       "      <td>2009</td>\n",
       "      <td>-0.36</td>\n",
       "      <td>-2.01</td>\n",
       "      <td>5.1</td>\n",
       "      <td>5.04</td>\n",
       "      <td>0.93</td>\n",
       "      <td>216.26</td>\n",
       "      <td>6984</td>\n",
       "      <td>2740</td>\n",
       "      <td>3346</td>\n",
       "      <td>6086</td>\n",
       "    </tr>\n",
       "    <tr>\n",
       "      <th>9</th>\n",
       "      <td>2010</td>\n",
       "      <td>1.64</td>\n",
       "      <td>2.56</td>\n",
       "      <td>5.3</td>\n",
       "      <td>4.69</td>\n",
       "      <td>0.88</td>\n",
       "      <td>217.06</td>\n",
       "      <td>7244</td>\n",
       "      <td>3020</td>\n",
       "      <td>2536</td>\n",
       "      <td>5556</td>\n",
       "    </tr>\n",
       "    <tr>\n",
       "      <th>10</th>\n",
       "      <td>2011</td>\n",
       "      <td>3.16</td>\n",
       "      <td>1.55</td>\n",
       "      <td>5.5</td>\n",
       "      <td>4.45</td>\n",
       "      <td>0.83</td>\n",
       "      <td>216.25</td>\n",
       "      <td>7488</td>\n",
       "      <td>2320</td>\n",
       "      <td>2009</td>\n",
       "      <td>4329</td>\n",
       "    </tr>\n",
       "    <tr>\n",
       "      <th>11</th>\n",
       "      <td>2012</td>\n",
       "      <td>2.07</td>\n",
       "      <td>2.25</td>\n",
       "      <td>5.7</td>\n",
       "      <td>3.66</td>\n",
       "      <td>0.79</td>\n",
       "      <td>219.10</td>\n",
       "      <td>9942</td>\n",
       "      <td>1830</td>\n",
       "      <td>1750</td>\n",
       "      <td>3580</td>\n",
       "    </tr>\n",
       "    <tr>\n",
       "      <th>12</th>\n",
       "      <td>2013</td>\n",
       "      <td>3.14</td>\n",
       "      <td>1.84</td>\n",
       "      <td>5.7</td>\n",
       "      <td>3.99</td>\n",
       "      <td>0.75</td>\n",
       "      <td>222.71</td>\n",
       "      <td>11856</td>\n",
       "      <td>1860</td>\n",
       "      <td>2024</td>\n",
       "      <td>3884</td>\n",
       "    </tr>\n",
       "    <tr>\n",
       "      <th>13</th>\n",
       "      <td>2014</td>\n",
       "      <td>2.84</td>\n",
       "      <td>2.53</td>\n",
       "      <td>5.7</td>\n",
       "      <td>4.17</td>\n",
       "      <td>0.72</td>\n",
       "      <td>227.35</td>\n",
       "      <td>12623</td>\n",
       "      <td>1860</td>\n",
       "      <td>2401</td>\n",
       "      <td>4261</td>\n",
       "    </tr>\n",
       "    <tr>\n",
       "      <th>14</th>\n",
       "      <td>2015</td>\n",
       "      <td>3.23</td>\n",
       "      <td>2.91</td>\n",
       "      <td>5.7</td>\n",
       "      <td>3.85</td>\n",
       "      <td>0.69</td>\n",
       "      <td>233.22</td>\n",
       "      <td>14126</td>\n",
       "      <td>1760</td>\n",
       "      <td>2598</td>\n",
       "      <td>4358</td>\n",
       "    </tr>\n",
       "    <tr>\n",
       "      <th>15</th>\n",
       "      <td>2016</td>\n",
       "      <td>3.57</td>\n",
       "      <td>1.64</td>\n",
       "      <td>5.9</td>\n",
       "      <td>3.65</td>\n",
       "      <td>0.67</td>\n",
       "      <td>238.06</td>\n",
       "      <td>14465</td>\n",
       "      <td>1650</td>\n",
       "      <td>2916</td>\n",
       "      <td>4566</td>\n",
       "    </tr>\n",
       "    <tr>\n",
       "      <th>16</th>\n",
       "      <td>2017</td>\n",
       "      <td>2.13</td>\n",
       "      <td>2.37</td>\n",
       "      <td>5.9</td>\n",
       "      <td>3.99</td>\n",
       "      <td>0.64</td>\n",
       "      <td>243.98</td>\n",
       "      <td>15415</td>\n",
       "      <td>1460</td>\n",
       "      <td>3305</td>\n",
       "      <td>4765</td>\n",
       "    </tr>\n",
       "    <tr>\n",
       "      <th>17</th>\n",
       "      <td>2018</td>\n",
       "      <td>2.49</td>\n",
       "      <td>2.93</td>\n",
       "      <td>5.9</td>\n",
       "      <td>4.54</td>\n",
       "      <td>0.62</td>\n",
       "      <td>251.23</td>\n",
       "      <td>15945</td>\n",
       "      <td>1530</td>\n",
       "      <td>3768</td>\n",
       "      <td>5298</td>\n",
       "    </tr>\n",
       "    <tr>\n",
       "      <th>18</th>\n",
       "      <td>2019</td>\n",
       "      <td>1.23</td>\n",
       "      <td>2.16</td>\n",
       "      <td>5.9</td>\n",
       "      <td>3.94</td>\n",
       "      <td>0.61</td>\n",
       "      <td>258.48</td>\n",
       "      <td>16633</td>\n",
       "      <td>1390</td>\n",
       "      <td>3952</td>\n",
       "      <td>5342</td>\n",
       "    </tr>\n",
       "    <tr>\n",
       "      <th>19</th>\n",
       "      <td>2020</td>\n",
       "      <td>4.70</td>\n",
       "      <td>-7.97</td>\n",
       "      <td>5.9</td>\n",
       "      <td>3.11</td>\n",
       "      <td>0.59</td>\n",
       "      <td>265.95</td>\n",
       "      <td>17257</td>\n",
       "      <td>1060</td>\n",
       "      <td>3653</td>\n",
       "      <td>4713</td>\n",
       "    </tr>\n",
       "  </tbody>\n",
       "</table>\n",
       "</div>"
      ],
      "text/plain": [
       "    YEAR  INFLATION RATE  ECONOMY  UNEMPLOYMENT RATE  MORTAGE RATE  \\\n",
       "0   2001            2.85     1.10                4.2          6.97   \n",
       "1   2002            1.58     1.72                4.2          6.54   \n",
       "2   2003            2.28     2.86                4.3          5.83   \n",
       "3   2004            2.66     3.80                4.4          5.84   \n",
       "4   2005            3.39     3.51                4.4          5.87   \n",
       "5   2006            3.23     2.85                4.5          6.41   \n",
       "6   2007            2.85     1.88                4.6          6.34   \n",
       "7   2008            3.84    -0.14                4.9          6.03   \n",
       "8   2009           -0.36    -2.01                5.1          5.04   \n",
       "9   2010            1.64     2.56                5.3          4.69   \n",
       "10  2011            3.16     1.55                5.5          4.45   \n",
       "11  2012            2.07     2.25                5.7          3.66   \n",
       "12  2013            3.14     1.84                5.7          3.99   \n",
       "13  2014            2.84     2.53                5.7          4.17   \n",
       "14  2015            3.23     2.91                5.7          3.85   \n",
       "15  2016            3.57     1.64                5.9          3.65   \n",
       "16  2017            2.13     2.37                5.9          3.99   \n",
       "17  2018            2.49     2.93                5.9          4.54   \n",
       "18  2019            1.23     2.16                5.9          3.94   \n",
       "19  2020            4.70    -7.97                5.9          3.11   \n",
       "\n",
       "    POPULATION     CPI  PERMITS  EXISITING HOUSE  NEW HOUSE FOR SALE  \\\n",
       "0         1.03  176.35    19646             2068                3621   \n",
       "1         0.94  180.26    20988             2118                3930   \n",
       "2         0.88  180.26    22661             2270                4184   \n",
       "3         0.88  184.80    24691             2244                4745   \n",
       "4         0.95  189.54    25921             2846                5610   \n",
       "5         0.94  195.72    22124             3450                6641   \n",
       "6         0.96  203.16    16698             3520                6375   \n",
       "7         0.96  209.58    10750             3130                5107   \n",
       "8         0.93  216.26     6984             2740                3346   \n",
       "9         0.88  217.06     7244             3020                2536   \n",
       "10        0.83  216.25     7488             2320                2009   \n",
       "11        0.79  219.10     9942             1830                1750   \n",
       "12        0.75  222.71    11856             1860                2024   \n",
       "13        0.72  227.35    12623             1860                2401   \n",
       "14        0.69  233.22    14126             1760                2598   \n",
       "15        0.67  238.06    14465             1650                2916   \n",
       "16        0.64  243.98    15415             1460                3305   \n",
       "17        0.62  251.23    15945             1530                3768   \n",
       "18        0.61  258.48    16633             1390                3952   \n",
       "19        0.59  265.95    17257             1060                3653   \n",
       "\n",
       "    TOTAL HOUSE SUPPLY  \n",
       "0                 5689  \n",
       "1                 6048  \n",
       "2                 6454  \n",
       "3                 6989  \n",
       "4                 8456  \n",
       "5                10091  \n",
       "6                 9895  \n",
       "7                 8237  \n",
       "8                 6086  \n",
       "9                 5556  \n",
       "10                4329  \n",
       "11                3580  \n",
       "12                3884  \n",
       "13                4261  \n",
       "14                4358  \n",
       "15                4566  \n",
       "16                4765  \n",
       "17                5298  \n",
       "18                5342  \n",
       "19                4713  "
      ]
     },
     "execution_count": 16,
     "metadata": {},
     "output_type": "execute_result"
    }
   ],
   "source": [
    "x"
   ]
  },
  {
   "cell_type": "code",
   "execution_count": 17,
   "id": "46a6a946",
   "metadata": {
    "scrolled": true
   },
   "outputs": [
    {
     "data": {
      "text/plain": [
       "0     1358.14\n",
       "1     1467.34\n",
       "2     1604.77\n",
       "3     1805.27\n",
       "4     2060.84\n",
       "5     2201.38\n",
       "6     2159.04\n",
       "7     1968.70\n",
       "8     1782.52\n",
       "9     1736.04\n",
       "10    1671.09\n",
       "11    1691.92\n",
       "12    1854.29\n",
       "13    1976.50\n",
       "14    2066.42\n",
       "15    2171.43\n",
       "16    2297.29\n",
       "17    2430.31\n",
       "18    2514.44\n",
       "19    3145.64\n",
       "Name: PRICE, dtype: float64"
      ]
     },
     "execution_count": 17,
     "metadata": {},
     "output_type": "execute_result"
    }
   ],
   "source": [
    "y"
   ]
  },
  {
   "cell_type": "markdown",
   "id": "f312cf1d",
   "metadata": {},
   "source": [
    "# Spliting Dataset"
   ]
  },
  {
   "cell_type": "code",
   "execution_count": 18,
   "id": "53488944",
   "metadata": {},
   "outputs": [
    {
     "name": "stderr",
     "output_type": "stream",
     "text": [
      "C:\\Users\\user\\anaconda3\\lib\\site-packages\\scipy\\__init__.py:146: UserWarning: A NumPy version >=1.16.5 and <1.23.0 is required for this version of SciPy (detected version 1.23.1\n",
      "  warnings.warn(f\"A NumPy version >={np_minversion} and <{np_maxversion}\"\n"
     ]
    }
   ],
   "source": [
    "from sklearn.model_selection import train_test_split"
   ]
  },
  {
   "cell_type": "code",
   "execution_count": 19,
   "id": "5e2543f6",
   "metadata": {},
   "outputs": [],
   "source": [
    "x_train,x_test,y_train,y_test=train_test_split(x,y,test_size=0.2,random_state=42)"
   ]
  },
  {
   "cell_type": "code",
   "execution_count": 20,
   "id": "6a795e25",
   "metadata": {},
   "outputs": [
    {
     "data": {
      "text/plain": [
       "(16, 11)"
      ]
     },
     "execution_count": 20,
     "metadata": {},
     "output_type": "execute_result"
    }
   ],
   "source": [
    "x_train.shape"
   ]
  },
  {
   "cell_type": "code",
   "execution_count": 21,
   "id": "d9e4acb3",
   "metadata": {},
   "outputs": [
    {
     "data": {
      "text/plain": [
       "(4, 11)"
      ]
     },
     "execution_count": 21,
     "metadata": {},
     "output_type": "execute_result"
    }
   ],
   "source": [
    "x_test.shape"
   ]
  },
  {
   "cell_type": "code",
   "execution_count": 22,
   "id": "c72f2242",
   "metadata": {},
   "outputs": [
    {
     "data": {
      "text/plain": [
       "(16,)"
      ]
     },
     "execution_count": 22,
     "metadata": {},
     "output_type": "execute_result"
    }
   ],
   "source": [
    "y_train.shape"
   ]
  },
  {
   "cell_type": "code",
   "execution_count": 23,
   "id": "e3f51795",
   "metadata": {},
   "outputs": [
    {
     "data": {
      "text/plain": [
       "(4,)"
      ]
     },
     "execution_count": 23,
     "metadata": {},
     "output_type": "execute_result"
    }
   ],
   "source": [
    "y_test.shape"
   ]
  },
  {
   "cell_type": "code",
   "execution_count": 24,
   "id": "f5ec3371",
   "metadata": {},
   "outputs": [],
   "source": [
    "from sklearn.preprocessing import normalize"
   ]
  },
  {
   "cell_type": "code",
   "execution_count": 25,
   "id": "b4cf8a52",
   "metadata": {},
   "outputs": [],
   "source": [
    "x_train_new=normalize(x_train)\n",
    "x_test_new=normalize(x_test)"
   ]
  },
  {
   "cell_type": "code",
   "execution_count": 26,
   "id": "ad21838f",
   "metadata": {
    "scrolled": true
   },
   "outputs": [
    {
     "data": {
      "text/plain": [
       "array([[ 1.92779690e-01, -3.45448922e-05, -1.92875648e-04,\n",
       "         4.89385972e-04,  4.83628490e-04,  8.92409714e-05,\n",
       "         2.07518844e-02,  6.70170908e-01,  2.62925013e-01,\n",
       "         3.21075581e-01,  5.84000594e-01],\n",
       "       [ 7.85991589e-02,  1.26557968e-04,  1.11668795e-04,\n",
       "         1.76319150e-04,  2.51156834e-04,  3.68311114e-05,\n",
       "         7.66870757e-03,  8.66863306e-01,  1.35178015e-01,\n",
       "         2.60207884e-01,  3.95385899e-01],\n",
       "       [ 1.82033101e-01,  1.87280576e-04,  2.03565843e-04,\n",
       "         5.15700136e-04,  3.31133771e-04,  7.14742293e-05,\n",
       "         1.98227894e-02,  8.99489605e-01,  1.65566886e-01,\n",
       "         1.58328989e-01,  3.23895875e-01],\n",
       "       [ 7.62858682e-02,  1.01257689e-04,  1.44653842e-04,\n",
       "         1.67493922e-04,  2.22310115e-04,  3.34987844e-05,\n",
       "         7.03474473e-03,  9.39907371e-01,  8.54219003e-02,\n",
       "         1.80626968e-01,  2.66048869e-01],\n",
       "       [ 1.11670203e-01,  6.80308812e-05,  1.19468864e-04,\n",
       "         3.26326991e-04,  2.17920058e-04,  3.37388923e-05,\n",
       "         1.42964408e-02,  9.19965566e-01,  7.68804267e-02,\n",
       "         2.18583774e-01,  2.95464201e-01],\n",
       "       [ 1.21078384e-01,  1.27861655e-04,  1.42268602e-04,\n",
       "         3.54170782e-04,  2.39515495e-04,  3.84185255e-05,\n",
       "         1.46458623e-02,  9.25346205e-01,  8.76422614e-02,\n",
       "         1.98395667e-01,  2.86037928e-01],\n",
       "       [ 1.45793356e-01,  2.05587454e-04,  1.83146570e-04,\n",
       "         4.12622707e-04,  3.01866086e-04,  5.21207630e-05,\n",
       "         1.64578548e-02,  9.13778321e-01,  1.34645304e-01,\n",
       "         1.73808267e-01,  3.08453571e-01],\n",
       "       [ 8.30356989e-02,  9.45189184e-05,  1.18563205e-04,\n",
       "         1.78259364e-04,  2.41686532e-04,  3.64809860e-05,\n",
       "         7.47279834e-03,  9.39426846e-01,  9.41043617e-02,\n",
       "         1.73450506e-01,  2.67554868e-01],\n",
       "       [ 1.98066912e-01,  1.61606834e-04,  2.52264326e-04,\n",
       "         5.22265988e-04,  4.62156129e-04,  8.67158622e-05,\n",
       "         2.13892557e-02,  7.13829211e-01,  2.97593072e-01,\n",
       "         2.49899348e-01,  5.47492421e-01],\n",
       "       [ 1.09770340e-01,  2.55406236e-04, -4.33103765e-04,\n",
       "         3.20616338e-04,  1.69002849e-04,  3.20616338e-05,\n",
       "         1.44521890e-02,  9.37775618e-01,  5.76022574e-02,\n",
       "         1.98510421e-01,  2.56112678e-01],\n",
       "       [ 7.14691682e-02,  1.20838145e-04,  1.25115601e-04,\n",
       "         1.56840070e-04,  2.09238911e-04,  3.38631969e-05,\n",
       "         6.75624246e-03,  9.23966238e-01,  1.01447009e-01,\n",
       "         1.99971089e-01,  3.01418098e-01],\n",
       "       [ 1.55627078e-01,  2.42756594e-04,  1.42252272e-04,\n",
       "         4.40672799e-04,  3.08470959e-04,  5.79832630e-05,\n",
       "         1.72179367e-02,  9.16599421e-01,  1.43798492e-01,\n",
       "         1.56477499e-01,  3.00275991e-01],\n",
       "       [ 1.34355691e-01,  2.56935186e-04, -9.36742867e-06,\n",
       "         3.27860003e-04,  4.03468535e-04,  6.42337966e-05,\n",
       "         1.40230407e-02,  7.19284701e-01,  2.09428941e-01,\n",
       "         3.41710416e-01,  5.51139357e-01],\n",
       "       [ 2.13984836e-01,  3.36246683e-04,  1.64931126e-04,\n",
       "         5.85239481e-04,  4.73511943e-04,  8.83179580e-05,\n",
       "         2.30105523e-02,  7.96776951e-01,  2.46864654e-01,\n",
       "         2.13772021e-01,  4.60636675e-01],\n",
       "       [ 1.32149495e-01,  2.11832689e-04,  1.90846169e-04,\n",
       "         3.73822393e-04,  2.52494072e-04,  4.52521844e-05,\n",
       "         1.52952383e-02,  9.26423705e-01,  1.15425862e-01,\n",
       "         1.70384312e-01,  2.85810173e-01],\n",
       "       [ 9.63574402e-02,  1.36830446e-04,  9.02600835e-05,\n",
       "         2.20849140e-04,  3.04387728e-04,  4.60902554e-05,\n",
       "         9.75385030e-03,  8.01682380e-01,  1.68997603e-01,\n",
       "         3.06068102e-01,  4.75065705e-01]])"
      ]
     },
     "execution_count": 26,
     "metadata": {},
     "output_type": "execute_result"
    }
   ],
   "source": [
    "x_train_new"
   ]
  },
  {
   "cell_type": "code",
   "execution_count": 27,
   "id": "41aeb239",
   "metadata": {},
   "outputs": [
    {
     "data": {
      "text/plain": [
       "array([[9.54206667e-02, 1.35906497e-04, 5.24551391e-05, 2.00283258e-04,\n",
       "        3.32374836e-04, 4.91170848e-05, 8.40951253e-03, 9.36848785e-01,\n",
       "        9.86156616e-02, 1.72672781e-01, 2.71288442e-01],\n",
       "       [1.15933737e-01, 1.43050052e-04, 1.68327973e-04, 3.38953939e-04,\n",
       "        2.60822183e-04, 3.56188885e-05, 1.44331183e-02, 9.16037382e-01,\n",
       "        8.78982248e-02, 2.16470922e-01, 3.04369147e-01],\n",
       "       [1.28684342e-01, 2.27878521e-04, 1.04683691e-04, 3.76605960e-04,\n",
       "        2.32985043e-04, 4.27671175e-05, 1.51957313e-02, 9.23322917e-01,\n",
       "        1.05322006e-01, 1.86132708e-01, 2.91454714e-01],\n",
       "       [8.94386725e-02, 7.05859653e-05, 7.68404179e-05, 1.87633579e-04,\n",
       "        2.92172287e-04, 4.19941819e-05, 8.05305449e-03, 9.37631797e-01,\n",
       "        9.46209332e-02, 1.75571420e-01, 2.70192353e-01]])"
      ]
     },
     "execution_count": 27,
     "metadata": {},
     "output_type": "execute_result"
    }
   ],
   "source": [
    "x_test_new"
   ]
  },
  {
   "cell_type": "markdown",
   "id": "14857465",
   "metadata": {},
   "source": [
    "# Applying Algorithms..."
   ]
  },
  {
   "cell_type": "markdown",
   "id": "41ad67d8",
   "metadata": {},
   "source": [
    "Linear Regression."
   ]
  },
  {
   "cell_type": "code",
   "execution_count": 28,
   "id": "65f45da1",
   "metadata": {},
   "outputs": [],
   "source": [
    "from sklearn.linear_model import LinearRegression"
   ]
  },
  {
   "cell_type": "code",
   "execution_count": 34,
   "id": "3838a251",
   "metadata": {},
   "outputs": [],
   "source": [
    "from sklearn.metrics import mean_absolute_error,mean_squared_error,r2_score,explained_variance_score"
   ]
  },
  {
   "cell_type": "code",
   "execution_count": 29,
   "id": "e0f7a5f7",
   "metadata": {},
   "outputs": [],
   "source": [
    "lr=LinearRegression()"
   ]
  },
  {
   "cell_type": "code",
   "execution_count": 30,
   "id": "208c01ca",
   "metadata": {},
   "outputs": [
    {
     "data": {
      "text/plain": [
       "LinearRegression()"
      ]
     },
     "execution_count": 30,
     "metadata": {},
     "output_type": "execute_result"
    }
   ],
   "source": [
    "lr.fit(x_train_new,y_train)"
   ]
  },
  {
   "cell_type": "code",
   "execution_count": 31,
   "id": "0c4641ba",
   "metadata": {},
   "outputs": [],
   "source": [
    "y_predicted=lr.predict(x_test_new)"
   ]
  },
  {
   "cell_type": "code",
   "execution_count": 32,
   "id": "075eb60b",
   "metadata": {
    "scrolled": true
   },
   "outputs": [
    {
     "data": {
      "text/plain": [
       "0     1358.14\n",
       "17    2430.31\n",
       "15    2171.43\n",
       "1     1467.34\n",
       "Name: PRICE, dtype: float64"
      ]
     },
     "execution_count": 32,
     "metadata": {},
     "output_type": "execute_result"
    }
   ],
   "source": [
    "#Actual Value\n",
    "y_test"
   ]
  },
  {
   "cell_type": "code",
   "execution_count": 33,
   "id": "f736adbc",
   "metadata": {},
   "outputs": [
    {
     "data": {
      "text/plain": [
       "array([1634.23306258, 2386.69643591, 2263.59844087, 1631.48168426])"
      ]
     },
     "execution_count": 33,
     "metadata": {},
     "output_type": "execute_result"
    }
   ],
   "source": [
    "#Predicted Value\n",
    "y_predicted"
   ]
  },
  {
   "cell_type": "code",
   "execution_count": 35,
   "id": "ac1bb4fd",
   "metadata": {},
   "outputs": [
    {
     "name": "stdout",
     "output_type": "stream",
     "text": [
      "The Mean Squared Error Value Is:  28391.759045982566\n",
      "The Mean Absolute Error Is:  144.00418795053804\n",
      "The R Square Value Is:  0.7667289762895539\n",
      "The Explain Variance Score Is:  0.8894142588979921\n"
     ]
    }
   ],
   "source": [
    "print('The Mean Squared Error Value Is: ', mean_squared_error(y_predicted,y_test))\n",
    "print('The Mean Absolute Error Is: ', mean_absolute_error(y_predicted,y_test))\n",
    "print('The R Square Value Is: ',r2_score(y_predicted,y_test))\n",
    "print('The Explain Variance Score Is: ',explained_variance_score(y_predicted,y_test))"
   ]
  },
  {
   "cell_type": "markdown",
   "id": "a044bcac",
   "metadata": {},
   "source": [
    "Ridge Regression."
   ]
  },
  {
   "cell_type": "code",
   "execution_count": 36,
   "id": "d82b21c3",
   "metadata": {},
   "outputs": [],
   "source": [
    "from sklearn.linear_model import Ridge"
   ]
  },
  {
   "cell_type": "code",
   "execution_count": 37,
   "id": "906a3183",
   "metadata": {},
   "outputs": [],
   "source": [
    "RR=Ridge()"
   ]
  },
  {
   "cell_type": "code",
   "execution_count": 38,
   "id": "f870b34c",
   "metadata": {},
   "outputs": [
    {
     "data": {
      "text/plain": [
       "Ridge()"
      ]
     },
     "execution_count": 38,
     "metadata": {},
     "output_type": "execute_result"
    }
   ],
   "source": [
    "RR.fit(x_train_new,y_train)"
   ]
  },
  {
   "cell_type": "code",
   "execution_count": 39,
   "id": "aba0d2c2",
   "metadata": {},
   "outputs": [],
   "source": [
    "y_predict_RR=RR.predict(x_test_new)"
   ]
  },
  {
   "cell_type": "code",
   "execution_count": 40,
   "id": "0c69a9e5",
   "metadata": {},
   "outputs": [
    {
     "data": {
      "text/plain": [
       "0     1358.14\n",
       "17    2430.31\n",
       "15    2171.43\n",
       "1     1467.34\n",
       "Name: PRICE, dtype: float64"
      ]
     },
     "execution_count": 40,
     "metadata": {},
     "output_type": "execute_result"
    }
   ],
   "source": [
    "y_test"
   ]
  },
  {
   "cell_type": "code",
   "execution_count": 41,
   "id": "c557c3cf",
   "metadata": {},
   "outputs": [
    {
     "data": {
      "text/plain": [
       "array([2068.0041406 , 2062.31178542, 2059.69235503, 2069.62937351])"
      ]
     },
     "execution_count": 41,
     "metadata": {},
     "output_type": "execute_result"
    }
   ],
   "source": [
    "y_predict_RR"
   ]
  },
  {
   "cell_type": "code",
   "execution_count": 42,
   "id": "b8260d9b",
   "metadata": {},
   "outputs": [
    {
     "name": "stdout",
     "output_type": "stream",
     "text": [
      "The Mean Squared Error Value Is:  253641.8936976281\n",
      "The Mean Absolute Error Is:  447.97234341466526\n",
      "The R Square Value Is:  -15413.104185773613\n",
      "The Explain Variance Score Is:  -12781.26174844141\n"
     ]
    }
   ],
   "source": [
    "print('The Mean Squared Error Value Is: ', mean_squared_error(y_predict_RR,y_test))\n",
    "print('The Mean Absolute Error Is: ', mean_absolute_error(y_predict_RR,y_test))\n",
    "print('The R Square Value Is: ',r2_score(y_predict_RR,y_test))\n",
    "print('The Explain Variance Score Is: ',explained_variance_score(y_predict_RR,y_test))"
   ]
  },
  {
   "cell_type": "markdown",
   "id": "c77f9e1c",
   "metadata": {},
   "source": [
    "Lasso Regression."
   ]
  },
  {
   "cell_type": "code",
   "execution_count": 43,
   "id": "5d7d214f",
   "metadata": {},
   "outputs": [],
   "source": [
    "from sklearn import linear_model"
   ]
  },
  {
   "cell_type": "code",
   "execution_count": 44,
   "id": "520454c3",
   "metadata": {},
   "outputs": [
    {
     "name": "stdout",
     "output_type": "stream",
     "text": [
      "[1906.75820338 2471.01369183 2226.19279268 1934.66281493]\n"
     ]
    }
   ],
   "source": [
    "Lasso = linear_model.Lasso(alpha=0.1)\n",
    "Lasso.fit(x_train_new,y_train)\n",
    "y_pred_lasso = Lasso.predict(x_test_new)\n",
    "print(y_pred_lasso)"
   ]
  },
  {
   "cell_type": "code",
   "execution_count": 45,
   "id": "40292e69",
   "metadata": {},
   "outputs": [
    {
     "data": {
      "text/plain": [
       "0     1358.14\n",
       "17    2430.31\n",
       "15    2171.43\n",
       "1     1467.34\n",
       "Name: PRICE, dtype: float64"
      ]
     },
     "execution_count": 45,
     "metadata": {},
     "output_type": "execute_result"
    }
   ],
   "source": [
    "y_test"
   ]
  },
  {
   "cell_type": "code",
   "execution_count": 46,
   "id": "723853bc",
   "metadata": {},
   "outputs": [
    {
     "name": "stdout",
     "output_type": "stream",
     "text": [
      "The Mean Squared Error Value Is:  131007.07510649768\n",
      "The Mean Absolute Error Is:  277.85187570622463\n",
      "The R Square Value Is:  -1.455038205925649\n",
      "The Explain Variance Score Is:  -0.00829926779460144\n"
     ]
    }
   ],
   "source": [
    "print('The Mean Squared Error Value Is: ', mean_squared_error(y_pred_lasso,y_test))\n",
    "print('The Mean Absolute Error Is: ', mean_absolute_error(y_pred_lasso,y_test))\n",
    "print('The R Square Value Is: ',r2_score(y_pred_lasso,y_test))\n",
    "print('The Explain Variance Score Is: ',explained_variance_score(y_pred_lasso,y_test))"
   ]
  },
  {
   "cell_type": "markdown",
   "id": "4748edeb",
   "metadata": {},
   "source": [
    "Bayesian Regression."
   ]
  },
  {
   "cell_type": "code",
   "execution_count": 47,
   "id": "d1ece648",
   "metadata": {},
   "outputs": [
    {
     "name": "stdout",
     "output_type": "stream",
     "text": [
      "[2043.73069292 2346.47619651 2167.0469508  2059.77458756]\n"
     ]
    }
   ],
   "source": [
    "from sklearn import linear_model \n",
    "br = linear_model.BayesianRidge()\n",
    "br.fit(x_train_new,y_train)\n",
    "y_pred_bayes = br.predict(x_test_new)\n",
    "print(y_pred_bayes)"
   ]
  },
  {
   "cell_type": "code",
   "execution_count": 48,
   "id": "a76b3fc2",
   "metadata": {},
   "outputs": [
    {
     "data": {
      "text/plain": [
       "0     1358.14\n",
       "17    2430.31\n",
       "15    2171.43\n",
       "1     1467.34\n",
       "Name: PRICE, dtype: float64"
      ]
     },
     "execution_count": 48,
     "metadata": {},
     "output_type": "execute_result"
    }
   ],
   "source": [
    "y_test"
   ]
  },
  {
   "cell_type": "code",
   "execution_count": 49,
   "id": "c7199d91",
   "metadata": {},
   "outputs": [
    {
     "name": "stdout",
     "output_type": "stream",
     "text": [
      "The Mean Squared Error Value Is:  207015.16412055783\n",
      "The Mean Absolute Error Is:  341.56053329088553\n",
      "The R Square Value Is:  -13.214463934636054\n",
      "The Explain Variance Score Is:  -7.139238112406382\n"
     ]
    }
   ],
   "source": [
    "print('The Mean Squared Error Value Is: ', mean_squared_error(y_pred_bayes,y_test))\n",
    "print('The Mean Absolute Error Is: ', mean_absolute_error(y_pred_bayes,y_test))\n",
    "print('The R Square Value Is: ',r2_score(y_pred_bayes,y_test))\n",
    "print('The Explain Variance Score Is: ',explained_variance_score(y_pred_bayes,y_test))"
   ]
  },
  {
   "cell_type": "markdown",
   "id": "b1d33809",
   "metadata": {},
   "source": [
    "Support Vector Machine Algorithm (SVM)."
   ]
  },
  {
   "cell_type": "code",
   "execution_count": 50,
   "id": "86b75069",
   "metadata": {},
   "outputs": [
    {
     "name": "stdout",
     "output_type": "stream",
     "text": [
      "[1973.21340553 1973.1343549  1973.12836046 1973.22638232]\n"
     ]
    }
   ],
   "source": [
    "from sklearn import svm\n",
    "svm = svm.SVR()\n",
    "svm.fit(x_train_new,y_train)\n",
    "y_pred_svm = svm.predict(x_test_new)\n",
    "print(y_pred_svm)"
   ]
  },
  {
   "cell_type": "code",
   "execution_count": 51,
   "id": "99236efa",
   "metadata": {},
   "outputs": [
    {
     "data": {
      "text/plain": [
       "0     1358.14\n",
       "17    2430.31\n",
       "15    2171.43\n",
       "1     1467.34\n",
       "Name: PRICE, dtype: float64"
      ]
     },
     "execution_count": 51,
     "metadata": {},
     "output_type": "execute_result"
    }
   ],
   "source": [
    "y_test"
   ]
  },
  {
   "cell_type": "code",
   "execution_count": 52,
   "id": "2d636761",
   "metadata": {},
   "outputs": [
    {
     "name": "stdout",
     "output_type": "stream",
     "text": [
      "The Mean Squared Error Value Is:  220642.35918147338\n",
      "The Mean Absolute Error Is:  444.1092681231836\n",
      "The R Square Value Is:  -111143192.04865052\n",
      "The Explain Variance Score Is:  -104321678.96095285\n"
     ]
    }
   ],
   "source": [
    "print('The Mean Squared Error Value Is: ', mean_squared_error(y_pred_svm,y_test))\n",
    "print('The Mean Absolute Error Is: ', mean_absolute_error(y_pred_svm,y_test))\n",
    "print('The R Square Value Is: ',r2_score(y_pred_svm,y_test))\n",
    "print('The Explain Variance Score Is: ',explained_variance_score(y_pred_svm,y_test))"
   ]
  },
  {
   "cell_type": "markdown",
   "id": "5e623a24",
   "metadata": {},
   "source": [
    "# Final Model:"
   ]
  },
  {
   "cell_type": "markdown",
   "id": "5c93bd60",
   "metadata": {},
   "source": [
    "By doing Linear Regression we get more accurate values than other models."
   ]
  },
  {
   "cell_type": "code",
   "execution_count": 53,
   "id": "91cbadac",
   "metadata": {},
   "outputs": [
    {
     "name": "stdout",
     "output_type": "stream",
     "text": [
      "The Acual Value is: \n",
      " 0     1358.14\n",
      "17    2430.31\n",
      "15    2171.43\n",
      "1     1467.34\n",
      "Name: PRICE, dtype: float64\n",
      "\n",
      "The Predicted Value is:\n",
      " [1634.23306258 2386.69643591 2263.59844087 1631.48168426]\n"
     ]
    }
   ],
   "source": [
    "lr=LinearRegression()\n",
    "lr.fit(x_train_new,y_train)\n",
    "y_predicted=lr.predict(x_test_new)\n",
    "print('The Acual Value is: \\n', y_test)\n",
    "print('\\nThe Predicted Value is:\\n', y_predicted)"
   ]
  },
  {
   "cell_type": "code",
   "execution_count": 54,
   "id": "3754d5d7",
   "metadata": {},
   "outputs": [
    {
     "name": "stdout",
     "output_type": "stream",
     "text": [
      "The Mean Squared Error Value Is:  28391.759045982566\n",
      "The Mean Absolute Error Is:  144.00418795053804\n",
      "The R Square Value Is:  0.7667289762895539\n",
      "The Explain Variance Score Is:  0.8894142588979921\n"
     ]
    }
   ],
   "source": [
    "print('The Mean Squared Error Value Is: ', mean_squared_error(y_predicted,y_test))\n",
    "print('The Mean Absolute Error Is: ', mean_absolute_error(y_predicted,y_test))\n",
    "print('The R Square Value Is: ',r2_score(y_predicted,y_test))\n",
    "print('The Explain Variance Score Is: ',explained_variance_score(y_predicted,y_test))"
   ]
  }
 ],
 "metadata": {
  "kernelspec": {
   "display_name": "Python 3 (ipykernel)",
   "language": "python",
   "name": "python3"
  },
  "language_info": {
   "codemirror_mode": {
    "name": "ipython",
    "version": 3
   },
   "file_extension": ".py",
   "mimetype": "text/x-python",
   "name": "python",
   "nbconvert_exporter": "python",
   "pygments_lexer": "ipython3",
   "version": "3.9.7"
  }
 },
 "nbformat": 4,
 "nbformat_minor": 5
}
